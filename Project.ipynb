{
 "cells": [
  {
   "cell_type": "markdown",
   "id": "26879a0b",
   "metadata": {},
   "source": [
    "## Define and Import"
   ]
  },
  {
   "cell_type": "code",
   "execution_count": 1,
   "id": "b4edb89d",
   "metadata": {},
   "outputs": [],
   "source": [
    "from collections import deque\n",
    "import random\n",
    "import time\n",
    "class Node:\n",
    "    def __init__(self, node_id):\n",
    "        self.id = node_id\n",
    "        self.edges = []\n",
    "    \n",
    "    def add_edge(self, edge):\n",
    "        self.edges.append(edge)\n",
    "\n",
    "class Edge:\n",
    "    def __init__(self, node1, node2, distance):\n",
    "        self.node1 = node1\n",
    "        self.node2 = node2\n",
    "        self.distance = distance"
   ]
  },
  {
   "cell_type": "markdown",
   "id": "713f823d",
   "metadata": {},
   "source": [
    "## core algorihtm"
   ]
  },
  {
   "cell_type": "code",
   "execution_count": 2,
   "id": "8e4e2a8c",
   "metadata": {},
   "outputs": [],
   "source": [
    "def bfs_max_distance(start_node):\n",
    "    visited = set()\n",
    "    max_distance = 0\n",
    "\n",
    "    queue = deque()\n",
    "    queue.append((start_node, 0))\n",
    "\n",
    "    while queue:\n",
    "        node, distance = queue.popleft()\n",
    "        visited.add(node)\n",
    "\n",
    "        for edge in node.edges:\n",
    "            neighbor = edge.node1 if node != edge.node1 else edge.node2\n",
    "            if neighbor not in visited:\n",
    "                new_distance = distance + edge.distance\n",
    "                queue.append((neighbor, new_distance))\n",
    "                max_distance = max(max_distance, new_distance)\n",
    "\n",
    "    return max_distance\n",
    "\n",
    "def find_max_distance_from_any_node(nodes):\n",
    "    max_start_node = None\n",
    "    max_distance = 0\n",
    "\n",
    "    for node in nodes:\n",
    "        distance = bfs_max_distance(node)\n",
    "        if distance > max_distance:\n",
    "            max_distance = distance\n",
    "            max_start_node = node\n",
    "\n",
    "    return max_start_node, max_distance\n"
   ]
  },
  {
   "cell_type": "markdown",
   "id": "667b39b8",
   "metadata": {},
   "source": [
    "## generate node and edge by given n,m"
   ]
  },
  {
   "cell_type": "code",
   "execution_count": 3,
   "id": "b2db9c38",
   "metadata": {},
   "outputs": [],
   "source": [
    "def generate_random_graph(n, m):\n",
    "    if m < n - 1 or m > n * (n - 1) // 2:\n",
    "        print(\"Invalid number of edges for\", n, \"nodes.\")\n",
    "        return None\n",
    "\n",
    "    nodes = [Node(i) for i in range(n)]\n",
    "    edges = []  # Initialize an empty list to store edges\n",
    "\n",
    "    while m > 0:\n",
    "        node1 = random.choice(nodes)\n",
    "        node2 = random.choice(nodes)\n",
    "        if node2 != node1 and not any(edge.node1 == node1 and edge.node2 == node2 for edge in node1.edges):\n",
    "            edge = Edge(node1, node2, 1)\n",
    "            node1.add_edge(edge)\n",
    "            node2.add_edge(edge)\n",
    "            edges.append(edge)  # Add the edge to the 'edges' list\n",
    "            m -= 1\n",
    "\n",
    "    return nodes, edges  # Return both nodes and edges"
   ]
  },
  {
   "cell_type": "markdown",
   "id": "f47c54fb",
   "metadata": {},
   "source": [
    "## example"
   ]
  },
  {
   "cell_type": "code",
   "execution_count": 4,
   "id": "052de242",
   "metadata": {},
   "outputs": [
    {
     "name": "stdout",
     "output_type": "stream",
     "text": [
      "The maximum distance starting from node 0 is 4\n",
      "running time: 274100 ns\n"
     ]
    }
   ],
   "source": [
    "n = 10  # Number of nodes\n",
    "m = 20 # Number of edges\n",
    "\n",
    "nodes, edges = generate_random_graph(n, m)  # Obtain both nodes and edges\n",
    "# Find the node with the maximum distance when starting from any node\n",
    "start_time = time.perf_counter_ns()\n",
    "start_node, max_distance = find_max_distance_from_any_node(nodes)\n",
    "end_time = time.perf_counter_ns()\n",
    "elapsed_time_ns = end_time - start_time\n",
    "print(f\"The maximum distance starting from node {start_node.id} is {max_distance}\")\n",
    "print(f\"running time: {elapsed_time_ns} ns\")"
   ]
  },
  {
   "cell_type": "code",
   "execution_count": null,
   "id": "b62cbc0b",
   "metadata": {},
   "outputs": [],
   "source": []
  }
 ],
 "metadata": {
  "kernelspec": {
   "display_name": "Python 3 (ipykernel)",
   "language": "python",
   "name": "python3"
  },
  "language_info": {
   "codemirror_mode": {
    "name": "ipython",
    "version": 3
   },
   "file_extension": ".py",
   "mimetype": "text/x-python",
   "name": "python",
   "nbconvert_exporter": "python",
   "pygments_lexer": "ipython3",
   "version": "3.9.7"
  }
 },
 "nbformat": 4,
 "nbformat_minor": 5
}
